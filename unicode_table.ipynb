{
  "nbformat": 4,
  "nbformat_minor": 0,
  "metadata": {
    "colab": {
      "name": "unicode-table.ipynb",
      "provenance": [],
      "mount_file_id": "1VmzsXHrQoW-HBmn9Uupd0WNVC2_G_vQm",
      "authorship_tag": "ABX9TyNk0YztYSEyYDIFLpXpJza3",
      "include_colab_link": true
    },
    "kernelspec": {
      "name": "python3",
      "display_name": "Python 3"
    },
    "language_info": {
      "name": "python"
    }
  },
  "cells": [
    {
      "cell_type": "markdown",
      "metadata": {
        "id": "view-in-github",
        "colab_type": "text"
      },
      "source": [
        "<a href=\"https://colab.research.google.com/github/stavkl/unicode-cuneiform/blob/main/unicode_table.ipynb\" target=\"_parent\"><img src=\"https://colab.research.google.com/assets/colab-badge.svg\" alt=\"Open In Colab\"/></a>"
      ]
    },
    {
      "cell_type": "markdown",
      "metadata": {
        "id": "THzJP5yTobV5"
      },
      "source": [
        "# Unified table of unicode cuneiform and their possible readings\n",
        "\n",
        "- All file paths should be changed according to your local directory\n",
        "- txt files are available on the GitHub repo\n",
        "- How to use: run all the cells (that are not commented) up to \"put your sign here\" and paste your unicode-cuneiform as input to the function get_readings_from_sign and run the cell. See example below\n",
        "\n",
        "```\n",
        "get_readings_from_sign('𒀀𒀭')\n",
        " >> ['a₄', '|a.an|', 'šemₓ', 'še₇', 'am₃', 'šeg₃', 'šeŋ₃']\n",
        "```\n",
        "\n",
        "\n"
      ]
    },
    {
      "cell_type": "code",
      "metadata": {
        "id": "D7nJvWIN3S85"
      },
      "source": [
        "import pandas as pd"
      ],
      "execution_count": null,
      "outputs": []
    },
    {
      "cell_type": "code",
      "metadata": {
        "id": "Lmdy1pt440hk"
      },
      "source": [
        "# Reading signs.txt into pandas dataframe\n",
        "\n",
        "data = []\n",
        "with open(\"/content/drive/My Drive/BabEng/UnicodeSignTable/signs.txt\") as fp:\n",
        "    lines = fp.readlines()\n",
        "    for line in lines:\n",
        "        line_contents = line.split()\n",
        "        data.append(line_contents)\n",
        "\n",
        "# print(data[0:10])\n",
        "df = pd.DataFrame(data, columns=[\"Reading\", \"Names of composing signs\", \"Cuneiform\", \"Language\", \"newline\"])"
      ],
      "execution_count": null,
      "outputs": []
    },
    {
      "cell_type": "code",
      "metadata": {
        "id": "6a_JIbSlFQYJ"
      },
      "source": [
        "df = df.drop(columns = ['newline'])"
      ],
      "execution_count": null,
      "outputs": []
    },
    {
      "cell_type": "code",
      "metadata": {
        "id": "Chl2_sbCXxRY"
      },
      "source": [
        "df = df.drop([0])"
      ],
      "execution_count": null,
      "outputs": []
    },
    {
      "cell_type": "code",
      "metadata": {
        "id": "aitimoIRVWQa"
      },
      "source": [
        "# df.head(20)"
      ],
      "execution_count": null,
      "outputs": []
    },
    {
      "cell_type": "code",
      "metadata": {
        "id": "QLCdC203Vcem"
      },
      "source": [
        "data2 = []\n",
        "with open(\"/content/drive/My Drive/BabEng/UnicodeSignTable/signs2.txt\") as fp2:\n",
        "    lines = fp2.readlines()\n",
        "    for line in lines:\n",
        "        line_contents = line.split()\n",
        "        data2.append(line_contents)\n",
        "\n",
        "print(data2[0:10])\n",
        "df2 = pd.DataFrame(data2, columns=[\"Reading\", \"Cuneiform\", \"newline\", \"something\"])"
      ],
      "execution_count": null,
      "outputs": []
    },
    {
      "cell_type": "code",
      "metadata": {
        "id": "iFzIZ0Z0VPj_"
      },
      "source": [
        "# df2.head(20)"
      ],
      "execution_count": null,
      "outputs": []
    },
    {
      "cell_type": "code",
      "metadata": {
        "id": "g3xP05kIVjuK"
      },
      "source": [
        "df2 = df2.drop(columns = ['newline', 'something'])"
      ],
      "execution_count": null,
      "outputs": []
    },
    {
      "cell_type": "code",
      "metadata": {
        "id": "QAPe8N12WfHN"
      },
      "source": [
        "# df2.head()"
      ],
      "execution_count": null,
      "outputs": []
    },
    {
      "cell_type": "code",
      "metadata": {
        "id": "TcqPMZomWhpd"
      },
      "source": [
        "temp_df = df.append(df2, sort=False)"
      ],
      "execution_count": null,
      "outputs": []
    },
    {
      "cell_type": "code",
      "metadata": {
        "id": "L-zlNTLzXHtX"
      },
      "source": [
        "# temp_df.tail(20)"
      ],
      "execution_count": null,
      "outputs": []
    },
    {
      "cell_type": "code",
      "metadata": {
        "id": "CSWJh7vFxNuT"
      },
      "source": [
        "data3 = []\n",
        "with open(\"/content/drive/My Drive/BabEng/UnicodeSignTable/signs3.txt\") as fp3:\n",
        "    lines = fp3.readlines()\n",
        "    for line in lines:\n",
        "        line_contents = line.split()\n",
        "        data3.append(line_contents)\n",
        "\n",
        "data3 = data3[2:]\n",
        "print(data3[0:10])"
      ],
      "execution_count": null,
      "outputs": []
    },
    {
      "cell_type": "code",
      "metadata": {
        "id": "r3MhOsKbxNxC"
      },
      "source": [
        "df3 = pd.DataFrame(data3, columns=[\"Reading\", \"Cuneiform\"])"
      ],
      "execution_count": null,
      "outputs": []
    },
    {
      "cell_type": "code",
      "metadata": {
        "id": "Y6h7YC6kxN0I"
      },
      "source": [
        "# df3.head()"
      ],
      "execution_count": null,
      "outputs": []
    },
    {
      "cell_type": "code",
      "metadata": {
        "id": "0alIe3RhxN3E"
      },
      "source": [
        "signs3_df = temp_df.append(df3, sort=False)"
      ],
      "execution_count": null,
      "outputs": []
    },
    {
      "cell_type": "code",
      "metadata": {
        "id": "PBH8ZahQxN53"
      },
      "source": [
        "# print(len(temp_df))\n",
        "# print(len(df3))\n",
        "# print(len(signs3_df))"
      ],
      "execution_count": null,
      "outputs": []
    },
    {
      "cell_type": "code",
      "metadata": {
        "id": "Lm5jWBb9xN8h"
      },
      "source": [
        "# signs3_df.head()"
      ],
      "execution_count": null,
      "outputs": []
    },
    {
      "cell_type": "code",
      "metadata": {
        "id": "kwqkun8tXMfn"
      },
      "source": [
        "grouped_df = signs3_df.groupby('Cuneiform').agg(list)"
      ],
      "execution_count": null,
      "outputs": []
    },
    {
      "cell_type": "code",
      "metadata": {
        "id": "6_HXpCD3Yeoe"
      },
      "source": [
        "# grouped_df.head(20)"
      ],
      "execution_count": null,
      "outputs": []
    },
    {
      "cell_type": "code",
      "metadata": {
        "id": "jtFN46c7Zzc1"
      },
      "source": [
        "for index in grouped_df.index:\n",
        "  grouped_df.at[index, 'Reading'] = list(set(grouped_df.at[index, 'Reading']))\n",
        "  grouped_df.at[index, 'Names of composing signs'] = list(set(grouped_df.at[index, 'Names of composing signs']))\n",
        "  grouped_df.at[index, 'Language'] = list(set(grouped_df.at[index, 'Language']))\n",
        "\n",
        "\n"
      ],
      "execution_count": null,
      "outputs": []
    },
    {
      "cell_type": "code",
      "metadata": {
        "id": "Ixzi0bVL30-H"
      },
      "source": [
        "# grouped_df.head(20)"
      ],
      "execution_count": null,
      "outputs": []
    },
    {
      "cell_type": "code",
      "metadata": {
        "id": "Hue6gmLL56T6"
      },
      "source": [
        "def get_readings_from_sign(sign_input):\n",
        "  return grouped_df.at[sign_input, 'Reading']"
      ],
      "execution_count": null,
      "outputs": []
    },
    {
      "cell_type": "markdown",
      "metadata": {
        "id": "jaaJYj655qao"
      },
      "source": [
        "# Put your sign here"
      ]
    },
    {
      "cell_type": "code",
      "metadata": {
        "id": "-fHFNlR-4Omv"
      },
      "source": [
        "get_readings_from_sign('𒀀𒀭')"
      ],
      "execution_count": null,
      "outputs": []
    },
    {
      "cell_type": "code",
      "metadata": {
        "id": "lEw_F0rhoH_S"
      },
      "source": [
        ""
      ],
      "execution_count": null,
      "outputs": []
    },
    {
      "cell_type": "code",
      "metadata": {
        "id": "FQJp32BDoIGf"
      },
      "source": [
        ""
      ],
      "execution_count": null,
      "outputs": []
    },
    {
      "cell_type": "code",
      "metadata": {
        "id": "CUJunYU2oII0"
      },
      "source": [
        ""
      ],
      "execution_count": null,
      "outputs": []
    },
    {
      "cell_type": "code",
      "metadata": {
        "id": "bqzkOKv4oILF"
      },
      "source": [
        ""
      ],
      "execution_count": null,
      "outputs": []
    },
    {
      "cell_type": "code",
      "metadata": {
        "id": "OW-dilO-oINf"
      },
      "source": [
        ""
      ],
      "execution_count": null,
      "outputs": []
    },
    {
      "cell_type": "code",
      "metadata": {
        "id": "aq6rPVOyoIP0"
      },
      "source": [
        ""
      ],
      "execution_count": null,
      "outputs": []
    },
    {
      "cell_type": "code",
      "metadata": {
        "id": "MzYp0HspoIT0"
      },
      "source": [
        ""
      ],
      "execution_count": null,
      "outputs": []
    },
    {
      "cell_type": "code",
      "metadata": {
        "id": "lrGjTCKLoIWC"
      },
      "source": [
        ""
      ],
      "execution_count": null,
      "outputs": []
    },
    {
      "cell_type": "code",
      "metadata": {
        "id": "iIUndMiKoIYk"
      },
      "source": [
        ""
      ],
      "execution_count": null,
      "outputs": []
    },
    {
      "cell_type": "code",
      "metadata": {
        "id": "cW-lIpKAoIa5"
      },
      "source": [
        ""
      ],
      "execution_count": null,
      "outputs": []
    },
    {
      "cell_type": "code",
      "metadata": {
        "id": "CWa3t5kXoIc5"
      },
      "source": [
        ""
      ],
      "execution_count": null,
      "outputs": []
    },
    {
      "cell_type": "code",
      "metadata": {
        "id": "bOul1GLDoIfK"
      },
      "source": [
        ""
      ],
      "execution_count": null,
      "outputs": []
    },
    {
      "cell_type": "markdown",
      "metadata": {
        "id": "nYgpqACCoJmP"
      },
      "source": [
        "# Experimental code with signs4.txt\n",
        "## Ignore for now"
      ]
    },
    {
      "cell_type": "code",
      "metadata": {
        "id": "fYdNX_6bxN_B"
      },
      "source": [
        "data4 = []\n",
        "line_types = [] \n",
        "with open(\"/content/drive/My Drive/BabEng/UnicodeSignTable/signs4.txt\") as fp4:\n",
        "    lines = fp4.readlines()\n",
        "    for line in lines:       \n",
        "        line_contents = line.split()\n",
        "        if len(line_contents) > 0:\n",
        "          line_types.append(line_contents[0])\n",
        "        data4.append(line_contents)\n",
        "\n",
        "print(data4[0:10])\n",
        "\n",
        "for item in set(line_types):\n",
        "  print(item)"
      ],
      "execution_count": null,
      "outputs": []
    },
    {
      "cell_type": "code",
      "metadata": {
        "id": "C8yKPUrGmeNm"
      },
      "source": [
        "authorized_labels = ['@v', '@list', '#@v', '@sign', '#@sign', '@ucode', '#see', '@uname', '@lit', '@inote', '@pname', '#@end', '@end']\n",
        "filtered_data4 = [x for x in data4 if ((len(x) > 0) and x[0] in authorized_labels)]\n",
        "\n",
        "\n",
        "\n"
      ],
      "execution_count": null,
      "outputs": []
    },
    {
      "cell_type": "code",
      "metadata": {
        "id": "e4XMfDeysQtY"
      },
      "source": [
        "filtered_data4[20:35]"
      ],
      "execution_count": null,
      "outputs": []
    },
    {
      "cell_type": "code",
      "metadata": {
        "id": "LWj9V0c7uB3v"
      },
      "source": [
        "indices = [i for i,x in enumerate(filtered_data4) if (x[0] == '@sign') or (x[0] == '#@sign')]\n",
        "print(indices[0:15])"
      ],
      "execution_count": null,
      "outputs": []
    },
    {
      "cell_type": "code",
      "metadata": {
        "id": "vII1VbsdueHW"
      },
      "source": [
        "print(filtered_data4[0:30])"
      ],
      "execution_count": null,
      "outputs": []
    },
    {
      "cell_type": "code",
      "metadata": {
        "id": "LAi7zQDfurko"
      },
      "source": [
        "grouped_data4 = []\n",
        "for number in indices:\n",
        "  next_number_ix = indices.index(number) + 1\n",
        "  if next_number_ix >= len(indices):\n",
        "    break\n",
        "  next_number = indices[next_number_ix]\n",
        "  # print(number, next_number)\n",
        "  group = filtered_data4[number: next_number]\n",
        "  grouped_data4.append(group)\n",
        "\n",
        "\n",
        "print(grouped_data4[0])\n",
        "print(grouped_data4[1])\n",
        "print(grouped_data4[-1])\n",
        "print(grouped_data4[-2])"
      ],
      "execution_count": null,
      "outputs": []
    },
    {
      "cell_type": "code",
      "metadata": {
        "id": "G5JG1sA0xOBo"
      },
      "source": [
        "column_names = [\"Reading\", \"Names of composing signs\", \"Cuneiform\", \"lit\", \"uname\", \"pname\", \"Unicode\"]\n",
        "df4 = pd.DataFrame(columns = column_names)\n",
        "\n",
        "filtered_data4 = []\n",
        "entry = []\n",
        "entry_readings = []\n",
        "for item in data4:\n",
        "\n",
        "  \n",
        "\n",
        "\n",
        "\n",
        "\n",
        "\n",
        "\n"
      ],
      "execution_count": null,
      "outputs": []
    }
  ]
}